{
  "nbformat": 4,
  "nbformat_minor": 0,
  "metadata": {
    "colab": {
      "provenance": [],
      "authorship_tag": "ABX9TyPYbPlvIi2dTx9FC6hQ/4Ew",
      "include_colab_link": true
    },
    "kernelspec": {
      "name": "python3",
      "display_name": "Python 3"
    },
    "language_info": {
      "name": "python"
    }
  },
  "cells": [
    {
      "cell_type": "markdown",
      "metadata": {
        "id": "view-in-github",
        "colab_type": "text"
      },
      "source": [
        "<a href=\"https://colab.research.google.com/github/shelynna/Big-Data/blob/main/queue_mangement.ipynb\" target=\"_parent\"><img src=\"https://colab.research.google.com/assets/colab-badge.svg\" alt=\"Open In Colab\"/></a>"
      ]
    },
    {
      "cell_type": "code",
      "source": [
        "import os\n",
        "import cv2\n",
        "from ultralytics import YOLO\n",
        "from ultralytics.solutions import queue_management"
      ],
      "metadata": {
        "id": "5ybvXJmIS3JX"
      },
      "execution_count": 43,
      "outputs": []
    },
    {
      "cell_type": "code",
      "source": [
        "file_path= \"C:\\Users\\Shelynna\\Downloads\\Video\\video.mp4\""
      ],
      "metadata": {
        "id": "QOEqAccgblY5"
      },
      "execution_count": null,
      "outputs": []
    },
    {
      "cell_type": "code",
      "source": [
        "model = YOLO(\"yolov8n.pt\")\n",
        "cap=cv2.VideoCapture(\"/content/video.mp4\")"
      ],
      "metadata": {
        "id": "lI8htyJxDEK3"
      },
      "execution_count": 44,
      "outputs": []
    },
    {
      "cell_type": "code",
      "source": [
        "assert cap.isOpened(),\"Error reading video file\"\n",
        "w, h, fps = (int(cap.get(x))\n",
        "for x in (cv2.CAP_PROP_FRAME_WIDTH,\n",
        "          cv2.CAP_PROP_FRAME_HEIGHT,\n",
        "          cv2.CAP_PROP_FPS)\n",
        "            )"
      ],
      "metadata": {
        "colab": {
          "base_uri": "https://localhost:8080/",
          "height": 211
        },
        "id": "VsVI69RtX3TJ",
        "outputId": "87e1e3dd-ff43-42d1-9c15-a38c483f7ce1"
      },
      "execution_count": 45,
      "outputs": [
        {
          "output_type": "error",
          "ename": "AssertionError",
          "evalue": "Error reading video file",
          "traceback": [
            "\u001b[0;31m---------------------------------------------------------------------------\u001b[0m",
            "\u001b[0;31mAssertionError\u001b[0m                            Traceback (most recent call last)",
            "\u001b[0;32m<ipython-input-45-e6001a7551e1>\u001b[0m in \u001b[0;36m<cell line: 1>\u001b[0;34m()\u001b[0m\n\u001b[0;32m----> 1\u001b[0;31m \u001b[0;32massert\u001b[0m \u001b[0mcap\u001b[0m\u001b[0;34m.\u001b[0m\u001b[0misOpened\u001b[0m\u001b[0;34m(\u001b[0m\u001b[0;34m)\u001b[0m\u001b[0;34m,\u001b[0m\u001b[0;34m\"Error reading video file\"\u001b[0m\u001b[0;34m\u001b[0m\u001b[0;34m\u001b[0m\u001b[0m\n\u001b[0m\u001b[1;32m      2\u001b[0m w, h, fps = (int(cap.get(x))\n\u001b[1;32m      3\u001b[0m for x in (cv2.CAP_PROP_FRAME_WIDTH,\n\u001b[1;32m      4\u001b[0m           \u001b[0mcv2\u001b[0m\u001b[0;34m.\u001b[0m\u001b[0mCAP_PROP_FRAME_HEIGHT\u001b[0m\u001b[0;34m,\u001b[0m\u001b[0;34m\u001b[0m\u001b[0;34m\u001b[0m\u001b[0m\n\u001b[1;32m      5\u001b[0m           cv2.CAP_PROP_FPS)\n",
            "\u001b[0;31mAssertionError\u001b[0m: Error reading video file"
          ]
        }
      ]
    }
  ]
}